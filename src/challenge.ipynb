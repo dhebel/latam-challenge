{
 "cells": [
  {
   "cell_type": "markdown",
   "metadata": {},
   "source": [
    "# LATAM Challenge: Data Engineer"
   ]
  },
  {
   "cell_type": "markdown",
   "metadata": {},
   "source": [
    "## Supuestos"
   ]
  },
  {
   "cell_type": "markdown",
   "metadata": {},
   "source": [
    "1) Se asume que las personas evaluadoras cuentan con el dataset de *tweets* que se pide utilizar, por lo que no se subirá al repositorio.\n",
    "   \n",
    "   *Nota*: El archivo \"farmers-protest-tweets-2021-2-4.json\" debe estar ubicado dentro de la carpeta src\n",
    "\n",
    "2) Se asume que cuando se refiere al Top 10 de cualquier concepto, nos referimos al orden descendente de cantidades y ascendente de puestos; es decir:\n",
    "   \n",
    "   TOP 10: \n",
    "    - Puesto 1: `Cantidad máxima (Ejemplo: 10.000)`\n",
    "    - Puesto 2: `Cantidad X (Ejemplo: 9.000)`\n",
    "    - Puesto 3: `Cantidad Y (Ejemplo: 8.000)`\n",
    "    - ...\n",
    "    - Puesto 10: `Cantidad mínima (Ejemplo: 1.000)`"
   ]
  },
  {
   "cell_type": "markdown",
   "metadata": {},
   "source": [
    "## Instrucciones"
   ]
  },
  {
   "cell_type": "markdown",
   "metadata": {},
   "source": [
    "1) Ejecutar la siguiente celda primero, pues define la ruta al archivo de *tweets* para todas las funciones que se llaman más abajo.\n",
    "2) Luego de eso se recomienda ejecutar el notebook completo celda por celda. "
   ]
  },
  {
   "cell_type": "code",
   "execution_count": 1,
   "metadata": {},
   "outputs": [],
   "source": [
    "import time\n",
    "file_path = \"farmers-protest-tweets-2021-2-4.json\""
   ]
  },
  {
   "cell_type": "markdown",
   "metadata": {},
   "source": [
    "## Q1: Top 10 Fechas"
   ]
  },
  {
   "cell_type": "markdown",
   "metadata": {},
   "source": [
    "### Optimización de Memoria"
   ]
  },
  {
   "cell_type": "markdown",
   "metadata": {},
   "source": [
    "El código recibe un archivo JSON con tweets y devuelve una lista con las 10 fechas con más tweets y el usuario que más publicó en cada una de ellas. Para optimizar la memoria, se utilizó un diccionario para almacenar el conteo de tweets por fecha y otro diccionario para almacenar el conteo de tweets por usuario por fecha. En lugar de almacenar todos los tweets en memoria, se procesan uno a uno y se actualizan los conteos en los diccionarios correspondientes. Al final, se encuentran las 10 fechas con más tweets y se obtiene el usuario con más publicaciones en cada una de ellas."
   ]
  },
  {
   "cell_type": "code",
   "execution_count": 2,
   "metadata": {},
   "outputs": [
    {
     "name": "stdout",
     "output_type": "stream",
     "text": [
      "Tiempo de ejecución: 8.74439787864685 segundos\n",
      "Top 10 Fechas con más tweets (Fecha, Usuario):\n"
     ]
    },
    {
     "data": {
      "text/plain": [
       "[(datetime.date(2021, 2, 12), 'RanbirS00614606'),\n",
       " (datetime.date(2021, 2, 13), 'MaanDee08215437'),\n",
       " (datetime.date(2021, 2, 17), 'RaaJVinderkaur'),\n",
       " (datetime.date(2021, 2, 16), 'jot__b'),\n",
       " (datetime.date(2021, 2, 14), 'rebelpacifist'),\n",
       " (datetime.date(2021, 2, 18), 'neetuanjle_nitu'),\n",
       " (datetime.date(2021, 2, 15), 'jot__b'),\n",
       " (datetime.date(2021, 2, 20), 'MangalJ23056160'),\n",
       " (datetime.date(2021, 2, 23), 'Surrypuria'),\n",
       " (datetime.date(2021, 2, 19), 'Preetm91')]"
      ]
     },
     "execution_count": 2,
     "metadata": {},
     "output_type": "execute_result"
    }
   ],
   "source": [
    "from q1_memory import q1_memory\n",
    "\n",
    "initial_time_q1_m = time.time()\n",
    "q1_memory_result = q1_memory(file_path)\n",
    "print(f\"Tiempo de ejecución: {time.time() - initial_time_q1_m} segundos\")\n",
    "print(\"Top 10 Fechas con más tweets (Fecha, Usuario):\")\n",
    "q1_memory_result"
   ]
  },
  {
   "cell_type": "markdown",
   "metadata": {},
   "source": [
    "### Optimización de Tiempo"
   ]
  },
  {
   "cell_type": "markdown",
   "metadata": {},
   "source": [
    "El código recibe un archivo JSON con tweets y devuelve una lista con las 10 fechas con más tweets y el usuario que más publicó en cada una de ellas. Para optimizar el tiempo de ejecución, se utilizó la función nlargest de la librería heapq para encontrar las 10 fechas con más tweets de manera eficiente. Se evitó ordenar toda la lista de fechas, lo cual sería menos eficiente, y se seleccionaron directamente las 10 fechas con más tweets. Luego, se obtiene el usuario con más publicaciones en cada una de las fechas seleccionadas y se ordena la lista final por cantidad de tweets en orden descendente."
   ]
  },
  {
   "cell_type": "code",
   "execution_count": 3,
   "metadata": {},
   "outputs": [
    {
     "name": "stdout",
     "output_type": "stream",
     "text": [
      "Tiempo de ejecución: 4.0836029052734375 segundos\n",
      "Top 10 Fechas con más tweets (Fecha, Usuario):\n"
     ]
    },
    {
     "data": {
      "text/plain": [
       "[(datetime.date(2021, 2, 12), 'RanbirS00614606'),\n",
       " (datetime.date(2021, 2, 13), 'MaanDee08215437'),\n",
       " (datetime.date(2021, 2, 17), 'RaaJVinderkaur'),\n",
       " (datetime.date(2021, 2, 16), 'jot__b'),\n",
       " (datetime.date(2021, 2, 14), 'rebelpacifist'),\n",
       " (datetime.date(2021, 2, 18), 'neetuanjle_nitu'),\n",
       " (datetime.date(2021, 2, 15), 'jot__b'),\n",
       " (datetime.date(2021, 2, 20), 'MangalJ23056160'),\n",
       " (datetime.date(2021, 2, 23), 'Surrypuria'),\n",
       " (datetime.date(2021, 2, 19), 'Preetm91')]"
      ]
     },
     "execution_count": 3,
     "metadata": {},
     "output_type": "execute_result"
    }
   ],
   "source": [
    "from q1_time import q1_time\n",
    "\n",
    "initial_time_q1_t = time.time()\n",
    "q1_time_result = q1_time(file_path)\n",
    "print(f\"Tiempo de ejecución: {time.time() - initial_time_q1_t} segundos\")\n",
    "print(\"Top 10 Fechas con más tweets (Fecha, Usuario):\")\n",
    "q1_time_result"
   ]
  },
  {
   "cell_type": "markdown",
   "metadata": {},
   "source": [
    "## Q2: Top 10 Emojis"
   ]
  },
  {
   "cell_type": "markdown",
   "metadata": {},
   "source": [
    "### Optimización de Memoria"
   ]
  },
  {
   "cell_type": "markdown",
   "metadata": {},
   "source": [
    "El código recibe un archivo con tweets en formato JSON y retorna una lista con los 10 emojis más comunes en los tweets. Para lograr esto, se inicializa un contador de emojis y se recorre cada tweet del archivo. Para cada tweet, se extrae el contenido del tweet y se verifica que no esté vacío. Si el tweet no está vacío, se utilizan los emojis de la librería `emoji` para extraer los emojis del texto y se actualiza el contador de emojis. Finalmente, se retornan los 10 emojis más comunes. Para optimizar la memoria, se utiliza un contador de emojis en lugar de almacenar todos los emojis en una lista o conjunto. Esto permite contar la frecuencia de cada emoji sin almacenar todos los emojis en memoria. Además, se procesa un tweet a la vez, lo que reduce la cantidad de datos almacenados en memoria en cada iteración."
   ]
  },
  {
   "cell_type": "code",
   "execution_count": 4,
   "metadata": {},
   "outputs": [
    {
     "name": "stdout",
     "output_type": "stream",
     "text": [
      "Tiempo de ejecución: 17.74793291091919 segundos\n",
      "Top 10 emojis más usados (Emoji, Cantidad de veces usado), ordenados de mayor a menor:\n"
     ]
    },
    {
     "data": {
      "text/plain": [
       "[('🙏', 5049),\n",
       " ('😂', 3072),\n",
       " ('🚜', 2972),\n",
       " ('🌾', 2182),\n",
       " ('🇮🇳', 2086),\n",
       " ('🤣', 1668),\n",
       " ('✊', 1651),\n",
       " ('❤️', 1382),\n",
       " ('🙏🏻', 1317),\n",
       " ('💚', 1040)]"
      ]
     },
     "execution_count": 4,
     "metadata": {},
     "output_type": "execute_result"
    }
   ],
   "source": [
    "from q2_memory import q2_memory\n",
    "\n",
    "initial_time_q2_m = time.time()\n",
    "q2_memory_result = q2_memory(file_path)\n",
    "print(f\"Tiempo de ejecución: {time.time() - initial_time_q2_m} segundos\")\n",
    "print (\"Top 10 emojis más usados (Emoji, Cantidad de veces usado), ordenados de mayor a menor:\")\n",
    "q2_memory_result"
   ]
  },
  {
   "cell_type": "markdown",
   "metadata": {},
   "source": [
    "### Optimización de Tiempo"
   ]
  },
  {
   "cell_type": "markdown",
   "metadata": {},
   "source": [
    "El código es muy similar al de la versión q2_memory.py, con la diferencia de que se utiliza la función `heapq.nlargest` en lugar de `Counter.most_common` para mejorar el tiempo de ejecución al obtener los 10 emojis más comunes. `heapq.nlargest` emplea una estructura de datos de cola de prioridad (Heap Queue) para encontrar los elementos más grandes en una lista de manera eficiente. Esto evita ordenar toda la lista, lo cual sería menos eficiente. Usar un heap permite obtener directamente los 10 emojis más comunes, reduciendo significativamente el tiempo de ejecución."
   ]
  },
  {
   "cell_type": "code",
   "execution_count": 5,
   "metadata": {},
   "outputs": [
    {
     "name": "stdout",
     "output_type": "stream",
     "text": [
      "Tiempo de ejecución: 16.944166898727417 segundos\n",
      "Top 10 emojis más usados (Emoji, Cantidad de veces usado), ordenados de mayor a menor:\n"
     ]
    },
    {
     "data": {
      "text/plain": [
       "[('🙏', 5049),\n",
       " ('😂', 3072),\n",
       " ('🚜', 2972),\n",
       " ('🌾', 2182),\n",
       " ('🇮🇳', 2086),\n",
       " ('🤣', 1668),\n",
       " ('✊', 1651),\n",
       " ('❤️', 1382),\n",
       " ('🙏🏻', 1317),\n",
       " ('💚', 1040)]"
      ]
     },
     "execution_count": 5,
     "metadata": {},
     "output_type": "execute_result"
    }
   ],
   "source": [
    "from q2_time import q2_time\n",
    "\n",
    "initial_time_q2_t = time.time()\n",
    "q2_time_result = q2_time(file_path)\n",
    "print(f\"Tiempo de ejecución: {time.time() - initial_time_q2_t} segundos\")\n",
    "print (\"Top 10 emojis más usados (Emoji, Cantidad de veces usado), ordenados de mayor a menor:\")\n",
    "q2_time_result"
   ]
  },
  {
   "cell_type": "markdown",
   "metadata": {},
   "source": [
    "## Q3: Top 10 Histórico de Usuarios"
   ]
  },
  {
   "cell_type": "markdown",
   "metadata": {},
   "source": [
    "### Optimización de Memoria"
   ]
  },
  {
   "cell_type": "markdown",
   "metadata": {},
   "source": [
    "La función recibe un archivo JSON con tweets y cuenta las menciones de usuarios en ellos. En lugar de almacenar todos los usuarios mencionados en una lista y luego contar las menciones, se utiliza un objeto Counter, que permite contar las menciones de usuarios de forma eficiente sin necesidad de almacenar todos los usuarios mencionados en memoria. Esto optimiza el uso de memoria al evitar almacenar duplicados de los usuarios mencionados. Al final, se retorna una lista con los 10 usuarios más mencionados en los tweets."
   ]
  },
  {
   "cell_type": "code",
   "execution_count": 6,
   "metadata": {},
   "outputs": [
    {
     "name": "stdout",
     "output_type": "stream",
     "text": [
      "Tiempo de ejecución: 4.598323106765747 segundos\n",
      "Top 10 histórico de usuarios (username) más influyentes en función del conteo de las menciones:\n"
     ]
    },
    {
     "data": {
      "text/plain": [
       "[('narendramodi', 2265),\n",
       " ('Kisanektamorcha', 1840),\n",
       " ('RakeshTikaitBKU', 1644),\n",
       " ('PMOIndia', 1427),\n",
       " ('RahulGandhi', 1146),\n",
       " ('GretaThunberg', 1048),\n",
       " ('RaviSinghKA', 1019),\n",
       " ('rihanna', 986),\n",
       " ('UNHumanRights', 962),\n",
       " ('meenaharris', 926)]"
      ]
     },
     "execution_count": 6,
     "metadata": {},
     "output_type": "execute_result"
    }
   ],
   "source": [
    "from q3_memory import q3_memory\n",
    "\n",
    "initial_time_q3_m = time.time()\n",
    "q3_memory_result = q3_memory(file_path)\n",
    "print(f\"Tiempo de ejecución: {time.time() - initial_time_q3_m} segundos\")\n",
    "print (\"Top 10 histórico de usuarios (username) más influyentes en función del conteo de las menciones:\")\n",
    "q3_memory_result"
   ]
  },
  {
   "cell_type": "markdown",
   "metadata": {},
   "source": [
    "### Optimización de Tiempo"
   ]
  },
  {
   "cell_type": "markdown",
   "metadata": {},
   "source": [
    "Esta solución aplica la misma lógica de optimización de tiempo de ejecución que en Q2. La función procesa un archivo JSON línea por línea para contar las menciones de usuarios de manera eficiente, utilizando un defaultdict para almacenar los conteos. Se maneja cualquier error de formato JSON para asegurar que el procesamiento continúe. Al final, se usa heapq.nlargest para obtener los 10 usuarios más mencionados, optimizando el tiempo de ejecución al evitar ordenar toda la lista de usuarios."
   ]
  },
  {
   "cell_type": "code",
   "execution_count": 7,
   "metadata": {},
   "outputs": [
    {
     "name": "stdout",
     "output_type": "stream",
     "text": [
      "Tiempo de ejecución: 4.206908226013184 segundos\n",
      "Top 10 histórico de usuarios (username) más influyentes en función del conteo de las menciones:\n"
     ]
    },
    {
     "data": {
      "text/plain": [
       "[('narendramodi', 2265),\n",
       " ('Kisanektamorcha', 1840),\n",
       " ('RakeshTikaitBKU', 1644),\n",
       " ('PMOIndia', 1427),\n",
       " ('RahulGandhi', 1146),\n",
       " ('GretaThunberg', 1048),\n",
       " ('RaviSinghKA', 1019),\n",
       " ('rihanna', 986),\n",
       " ('UNHumanRights', 962),\n",
       " ('meenaharris', 926)]"
      ]
     },
     "execution_count": 7,
     "metadata": {},
     "output_type": "execute_result"
    }
   ],
   "source": [
    "from q3_time import q3_time\n",
    "\n",
    "initial_time_q3_t = time.time()\n",
    "q3_time_result = q3_time(file_path)\n",
    "print(f\"Tiempo de ejecución: {time.time() - initial_time_q3_t} segundos\")\n",
    "print (\"Top 10 histórico de usuarios (username) más influyentes en función del conteo de las menciones:\")\n",
    "q3_time_result"
   ]
  }
 ],
 "metadata": {
  "kernelspec": {
   "display_name": ".venv",
   "language": "python",
   "name": "python3"
  },
  "language_info": {
   "codemirror_mode": {
    "name": "ipython",
    "version": 3
   },
   "file_extension": ".py",
   "mimetype": "text/x-python",
   "name": "python",
   "nbconvert_exporter": "python",
   "pygments_lexer": "ipython3",
   "version": "3.10.12"
  },
  "orig_nbformat": 4
 },
 "nbformat": 4,
 "nbformat_minor": 2
}
